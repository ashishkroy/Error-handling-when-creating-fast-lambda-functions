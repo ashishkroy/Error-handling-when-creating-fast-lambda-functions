{
 "cells": [
  {
   "cell_type": "markdown",
   "id": "b6d0a15b-625f-4436-b4cc-6a80dc0b7659",
   "metadata": {},
   "source": [
    "# Sqrt Iterable Handler"
   ]
  },
  {
   "cell_type": "code",
   "execution_count": 2,
   "id": "de394313-5b28-42df-ba58-d39cc11de63d",
   "metadata": {
    "execution": {
     "iopub.execute_input": "2025-03-29T07:55:49.849890Z",
     "iopub.status.busy": "2025-03-29T07:55:49.849628Z",
     "iopub.status.idle": "2025-03-29T07:55:49.852848Z",
     "shell.execute_reply": "2025-03-29T07:55:49.852207Z",
     "shell.execute_reply.started": "2025-03-29T07:55:49.849870Z"
    }
   },
   "outputs": [],
   "source": [
    "import math\n",
    "import time\n",
    "from typing import Iterable, Union, List"
   ]
  },
  {
   "cell_type": "markdown",
   "id": "419c6fd1-7db4-4dbf-a3e3-a13296988fd9",
   "metadata": {},
   "source": [
    "# Step 1.1: Function implementation with type hints and docstring"
   ]
  },
  {
   "cell_type": "code",
   "execution_count": 8,
   "id": "1f51cf86-80d8-40d7-9a3a-439efa2e9b87",
   "metadata": {
    "execution": {
     "iopub.execute_input": "2025-03-29T07:58:28.467046Z",
     "iopub.status.busy": "2025-03-29T07:58:28.466454Z",
     "iopub.status.idle": "2025-03-29T07:58:28.473704Z",
     "shell.execute_reply": "2025-03-29T07:58:28.472490Z",
     "shell.execute_reply.started": "2025-03-29T07:58:28.467018Z"
    }
   },
   "outputs": [
    {
     "ename": "IndentationError",
     "evalue": "unindent does not match any outer indentation level (<tokenize>, line 21)",
     "output_type": "error",
     "traceback": [
      "\u001b[0;36m  File \u001b[0;32m<tokenize>:21\u001b[0;36m\u001b[0m\n\u001b[0;31m    return result\u001b[0m\n\u001b[0m    ^\u001b[0m\n\u001b[0;31mIndentationError\u001b[0m\u001b[0;31m:\u001b[0m unindent does not match any outer indentation level\n"
     ]
    }
   ],
   "source": [
    "def process_numbers (data: Iterable[Union[int, float]]) -> List[Union[float, str]]:\n",
    "    \"\"\"\n",
    "    Process an iterable of numbers and compute square roots for positive numbers.\n",
    "    For non-positive numbers, returns a meaningful string instead of computing.\n",
    "\n",
    "    Args:\n",
    "    data: An iterable containing integers or floats.\n",
    "\n",
    "    Returns:\n",
    "    A list containing either square roots or descriptive strings for each input.\n",
    "    \"\"\"\n",
    "    result = []\n",
    "    for num in data:\n",
    "try:\n",
    "            if num > 0:\n",
    "                result.append(math.sqrt(num))\n",
    "else:\n",
    "                result.append(f\"Cannot compute square root of non-positive number: {num}\")\n",
    "except Exception as e:\n",
    "            result.append(f\"Error processing {num}: {e}\")\n",
    "    return result"
   ]
  },
  {
   "cell_type": "markdown",
   "id": "c22baa56-a7ec-4de7-a06f-9bad0329e0e1",
   "metadata": {},
   "source": [
    "# Step 1.2: Lambda-based implementation"
   ]
  },
  {
   "cell_type": "code",
   "execution_count": null,
   "id": "434e888b-fc17-4e34-b2ba-3e18d167cdea",
   "metadata": {},
   "outputs": [],
   "source": [
    "lambda_processor = lambda data: [math.sqrt(x) if x > 0 else f\"Cannot compute square root of non-positive number: {x}\" for x in data]\n",
    "\n",
    "# Timing both implementations\n",
    "data_input = [9, -4, 16, 0, 25, -1]\n",
    "\n",
    "start_time_v1 = time.perf_counter()\n",
    "result_v1 = process_numbers(data_input)\n",
    "time_v1 = time.perf_counter() - start_time_v1\n",
    "\n",
    "start_time_v2 = time.perf_counter()\n",
    "result_v2 = lambda_processor(data_input)\n",
    "time_v2 = time.perf_counter() - start_time_v2"
   ]
  },
  {
   "cell_type": "code",
   "execution_count": null,
   "id": "208e6868-43ad-4e15-bb5b-12418a087c60",
   "metadata": {},
   "outputs": [],
   "source": [
    "# Exercise 2: File I/O"
   ]
  },
  {
   "cell_type": "code",
   "execution_count": 1,
   "id": "06313266-3da0-48ba-ba9d-af3df17a5ec3",
   "metadata": {
    "execution": {
     "iopub.execute_input": "2025-03-29T07:55:23.707118Z",
     "iopub.status.busy": "2025-03-29T07:55:23.706757Z",
     "iopub.status.idle": "2025-03-29T07:55:24.272338Z",
     "shell.execute_reply": "2025-03-29T07:55:24.271505Z",
     "shell.execute_reply.started": "2025-03-29T07:55:23.707099Z"
    }
   },
   "outputs": [
    {
     "ename": "NameError",
     "evalue": "name 'result_v1' is not defined",
     "output_type": "error",
     "traceback": [
      "\u001b[0;31m---------------------------------------------------------------------------\u001b[0m",
      "\u001b[0;31mNameError\u001b[0m                                 Traceback (most recent call last)",
      "Cell \u001b[0;32mIn[1], line 5\u001b[0m\n\u001b[1;32m      3\u001b[0m \u001b[38;5;66;03m# Save results to file\u001b[39;00m\n\u001b[1;32m      4\u001b[0m \u001b[38;5;28;01mwith\u001b[39;00m \u001b[38;5;28mopen\u001b[39m(output_file, \u001b[38;5;124m\"\u001b[39m\u001b[38;5;124mw\u001b[39m\u001b[38;5;124m\"\u001b[39m) \u001b[38;5;28;01mas\u001b[39;00m f:\n\u001b[0;32m----> 5\u001b[0m     \u001b[38;5;28;01mfor\u001b[39;00m item \u001b[38;5;129;01min\u001b[39;00m \u001b[43mresult_v1\u001b[49m:\n\u001b[1;32m      6\u001b[0m         f\u001b[38;5;241m.\u001b[39mwrite(\u001b[38;5;28mstr\u001b[39m(item) \u001b[38;5;241m+\u001b[39m \u001b[38;5;124m\"\u001b[39m\u001b[38;5;130;01m\\n\u001b[39;00m\u001b[38;5;124m\"\u001b[39m)\n\u001b[1;32m      8\u001b[0m \u001b[38;5;66;03m# Read content and apply processing again\u001b[39;00m\n",
      "\u001b[0;31mNameError\u001b[0m: name 'result_v1' is not defined"
     ]
    }
   ],
   "source": [
    "output_file = \"results.txt\"\n",
    "\n",
    "# Save results to file\n",
    "with open(output_file, \"w\") as f:\n",
    "    for item in result_v1:\n",
    "        f.write(str(item) + \"\\n\")\n",
    "\n",
    "# Read content and apply processing again\n",
    "with open(output_file, \"r\") as f:\n",
    "    content = f.readlines()\n",
    "\n",
    "# Trying to reuse the function on string lines from file\n",
    "# Here lies the problem:\n",
    "\"\"\"\n",
    "Problem:\n",
    "The file content is read as strings (including previously written strings like\n",
    "\"Cannot compute...\"), and the function expects numeric types (int/float).\n",
    "Applying math.sqrt on these will raise an exception.\n",
    "\"\"\"\n",
    "\n",
    "# Modified version of Step 1.1 to handle this scenario\n",
    "def process_numbers_resilient(data: Iterable) -> List[Union[float, str]]:\n",
    "    \"\"\"\n",
    "    Enhanced processing to handle mixed types from file input.\n",
    "    Attempts to convert each element to float, and proceeds accordingly.\n",
    "    Prints error message if any item fails during conversion or math operation.\n",
    "    \"\"\"\n",
    "    result = []\n",
    "    for item in data:\n",
    "        try:\n",
    "            num = float(item)\n",
    "            if num > 0:\n",
    "                result.append(math.sqrt(num))\n",
    "            else:\n",
    "                result.append(f\"Cannot compute square root of non-positive number: {num}\")\n",
    "        except Exception as e:\n",
    "            print(f\"Skipping item '{item.strip()}': {e}\")\n",
    "    return result\n",
    "\n",
    "# Example usage with file input\n",
    "final_result = process_numbers_resilient(content)"
   ]
  },
  {
   "cell_type": "code",
   "execution_count": null,
   "id": "07ce010a-8c19-43f8-8117-494d42982275",
   "metadata": {},
   "outputs": [],
   "source": []
  }
 ],
 "metadata": {
  "kernelspec": {
   "display_name": "anaconda-2024.02-py310",
   "language": "python",
   "name": "conda-env-anaconda-2024.02-py310-py"
  },
  "language_info": {
   "codemirror_mode": {
    "name": "ipython",
    "version": 3
   },
   "file_extension": ".py",
   "mimetype": "text/x-python",
   "name": "python",
   "nbconvert_exporter": "python",
   "pygments_lexer": "ipython3",
   "version": "3.10.14"
  }
 },
 "nbformat": 4,
 "nbformat_minor": 5
}
